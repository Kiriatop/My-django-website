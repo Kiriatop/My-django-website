{
 "cells": [
  {
   "cell_type": "markdown",
   "id": "ff44c111",
   "metadata": {},
   "source": [
    "# **Crypto money analytics bot**"
   ]
  },
  {
   "cell_type": "markdown",
   "id": "8ee22e8d",
   "metadata": {},
   "source": [
    "### **installing required libraries**"
   ]
  },
  {
   "cell_type": "code",
   "execution_count": null,
   "id": "feac7975",
   "metadata": {},
   "outputs": [],
   "source": [
    "import pandas as pd\n",
    "import numpy as np\n",
    "from bs4 import BeautifulSoup \n",
    "from selenium import webdriver  # pip install selenium\n",
    "from selenium.webdriver.chrome.service import Service\n",
    "from webdriver_manager.chrome import ChromeDriverManager  # pip install webdriver-manager\n",
    "import re"
   ]
  },
  {
   "cell_type": "code",
   "execution_count": null,
   "id": "ce50e9c9",
   "metadata": {},
   "outputs": [],
   "source": [
    "import telebot\n",
    "import requests"
   ]
  },
  {
   "cell_type": "markdown",
   "id": "4faf682a",
   "metadata": {
    "tags": []
   },
   "source": [
    "## Developing bot"
   ]
  },
  {
   "cell_type": "code",
   "execution_count": null,
   "id": "95a17015",
   "metadata": {},
   "outputs": [],
   "source": [
    "bot = telebot.TeleBot('TOKEN')\n",
    "\n",
    "@bot.message_handler(commands = ['start'])\n",
    "def start(message):\n",
    "    bot.send_message(message.chat.id, 'Hello! It`s new telegram crypto bot. to check does crypto got yout price limit enter /set_data')\n",
    "    \n",
    "         \n",
    "         \n",
    "@bot.message_handler(commands = ['set_data'])\n",
    "def func3(message):\n",
    "    msg = bot.send_message(message.chat.id, text = 'Enter data in format price1/condition1/currency1,price2/condition2/currency2 ..... : ')\n",
    "    bot.register_next_step_handler(msg, Is_got)   \n",
    "\n",
    "\n",
    "@bot.message_handler(commands = ['is_got'])\n",
    "def Is_got(message):\n",
    "    user_text = message.text\n",
    "    do_break = 0 \n",
    "    \n",
    "    global currency_dict\n",
    "    currency_dict = {}\n",
    "    \n",
    "    for n, i in enumerate(user_text.split(',')):\n",
    "        currency_dict[\"currency\" + str(n)]  = 0\n",
    "    \n",
    "    while True:\n",
    "            for n, bc in enumerate(user_text.split(',')):\n",
    "                            df = pd.read_csv(\"bot_file.csv\")\n",
    "                           \n",
    "                            global do_broke\n",
    "                            do_broke = 0\n",
    "                        \n",
    "                            if list(df[\"a\"])[0] == 1:\n",
    "                                do_broke = 1\n",
    "                            b1 = bc.split('/')\n",
    "                            user_price = b1[0]\n",
    "                            ml = b1[1]\n",
    "                            user_currency = b1[2]\n",
    "                        #try:\n",
    "                            with webdriver.Chrome(service=Service(ChromeDriverManager().install())) as driver:  # open chrome\n",
    "                                driver.get('https://www.binance.com/en/price/' + str(user_currency))  # open page\n",
    "                                time.sleep(3)  # time to load webpage\n",
    "                                soup = BeautifulSoup(driver.page_source, 'html.parser') \n",
    "    \n",
    "                            for n, i1 in enumerate(list(soup(\"div\"))):\n",
    "                                if i1.get(\"id\") == \"__APP\":\n",
    "                                    for n1,i in enumerate(list(i1(\"section\"))):\n",
    "                                        if i.get(\"class\") == ['css-2tpvhp']:\n",
    "                                            for a in i('div'):\n",
    "                                                if a.get(\"class\") == [\"css-1ovykgb\"]:\n",
    "                                                    for b in list(a(\"div\")):\n",
    "                                                        if b.get(\"class\") == [\"css-1xmcoai\"]:\n",
    "                                                            for c in b(\"div\"):\n",
    "                                                                if c.get(\"class\") == [\"css-197puc0\"]:\n",
    "                                                                    for d in c(\"div\"):\n",
    "                                                                        if d.get(\"class\") == [\"css-1267ixm\"]:\n",
    "                                                                            for e in d(\"div\"):\n",
    "                                                                                if e.get(\"class\") == [\"css-1bwgsh3\"]:\n",
    "                                                                                    real_price = e    \n",
    "                            \n",
    "        \n",
    "                            real_price = str(real_price)\n",
    "                            real_price = real_price[real_price.index(\"$\") + 1:].replace(\"</div>\", '')\n",
    "                            \n",
    "                            real_price = real_price.replace(\",\", \"\") \n",
    "                            \n",
    "                            if ml == 'less' and float(real_price) <= float(user_price):                                \n",
    "                                bot.send_message(message.chat.id, text = 'The price of ' +  str(user_currency)  + ' got your limit ')\n",
    "                                do_break = do_break + 1\n",
    "\n",
    "                            elif ml == 'more' and float(real_price) >= float(user_price):                                \n",
    "                                bot.send_message(message.chat.id, text = 'The price of ' +  str(user_currency)  + ' got your limit ')\n",
    "                                do_break = do_break + 1\n",
    "\n",
    "                                                   \n",
    "            if do_break == len(user_text.split(',')) or do_broke == 1 :\n",
    "                break\n",
    "                \n",
    "            do_break = 0\n",
    "                        #except:          \n",
    "                                #bot.send_message(message.chat.id, text = 'there is no crypto with this name')  \n",
    "\n",
    "                    \n",
    "    #time.sleep(300)\n",
    "\n",
    "if __name__ == '__main__':\n",
    "    bot.polling(none_stop = True)"
   ]
  },
  {
   "cell_type": "code",
   "execution_count": null,
   "id": "3e27fb4a",
   "metadata": {},
   "outputs": [],
   "source": []
  },
  {
   "cell_type": "code",
   "execution_count": null,
   "id": "96e81e55-4f1c-46e5-bc19-b417b486c292",
   "metadata": {},
   "outputs": [],
   "source": []
  }
 ],
 "metadata": {
  "kernelspec": {
   "display_name": "Python 3 (ipykernel)",
   "language": "python",
   "name": "python3"
  },
  "language_info": {
   "codemirror_mode": {
    "name": "ipython",
    "version": 3
   },
   "file_extension": ".py",
   "mimetype": "text/x-python",
   "name": "python",
   "nbconvert_exporter": "python",
   "pygments_lexer": "ipython3",
   "version": "3.11.4"
  }
 },
 "nbformat": 4,
 "nbformat_minor": 5
}
