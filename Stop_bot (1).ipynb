{
 "cells": [
  {
   "cell_type": "code",
   "execution_count": 1,
   "id": "6374b78b-23f0-4e67-baa2-f06d458ff892",
   "metadata": {
    "tags": []
   },
   "outputs": [],
   "source": [
    "import os\n",
    "import telebot\n",
    "import pandas as pd\n",
    "\n",
    "bot = telebot.TeleBot('6852749821:AAEZShH9xzUPGam73qoTtHQ2uBavOVx0YCw')\n",
    "\n",
    "@bot.message_handler(commands = ['broke'])\n",
    "def func(message):\n",
    "    df_broke = pd.DataFrame({\"a\":[1]})\n",
    "    if not os.path.isfile(\"bot_file.csv\"):\n",
    "        df_broke.to_csv(\"bot_file.csv\")   \n",
    "    else:\n",
    "        os.remove('bot_file.csv')\n",
    "        df_broke.to_csv(\"bot_file.csv\")\n",
    "    \n",
    "    \n",
    "@bot.message_handler(commands = ['stop_broke'])  \n",
    "def func1(message):\n",
    "    df_stop_broke = pd.DataFrame({\"a\": [0]})\n",
    "    if not os.path.isfile(\"bot_file.csv\"):\n",
    "        df_stop_broke.to_csv(\"bot_file.csv\")   \n",
    "    else:\n",
    "        os.remove('bot_file.csv')\n",
    "        df_stop_broke.to_csv(\"bot_file.csv\")\n",
    "    \n",
    "    \n",
    "if __name__ == '__main__':\n",
    "    bot.polling(none_stop = True, timeout = None)"
   ]
  },
  {
   "cell_type": "code",
   "execution_count": null,
   "id": "af79a7dd-a9df-4f7d-949a-04e9a7335fbb",
   "metadata": {},
   "outputs": [],
   "source": []
  }
 ],
 "metadata": {
  "kernelspec": {
   "display_name": "Python 3 (ipykernel)",
   "language": "python",
   "name": "python3"
  },
  "language_info": {
   "codemirror_mode": {
    "name": "ipython",
    "version": 3
   },
   "file_extension": ".py",
   "mimetype": "text/x-python",
   "name": "python",
   "nbconvert_exporter": "python",
   "pygments_lexer": "ipython3",
   "version": "3.11.4"
  }
 },
 "nbformat": 4,
 "nbformat_minor": 5
}
